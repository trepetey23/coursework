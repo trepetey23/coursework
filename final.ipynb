{
  "nbformat": 4,
  "nbformat_minor": 0,
  "metadata": {
    "colab": {
      "provenance": []
    },
    "kernelspec": {
      "name": "python3",
      "display_name": "Python 3"
    },
    "language_info": {
      "name": "python"
    }
  },
  "cells": [
    {
      "cell_type": "markdown",
      "source": [
        "#*Final Applied Project Source Code*\n",
        "November 2023\n",
        "\n",
        "This section covers the code snippet to the chatbot assistant for HTML integration of the hosting site"
      ],
      "metadata": {
        "id": "iCdNrVVfkel8"
      }
    },
    {
      "cell_type": "code",
      "execution_count": null,
      "metadata": {
        "id": "Yu-1PuPlkc5u"
      },
      "outputs": [],
      "source": [
        "<body>\n",
        "<!-- Start of ChatBot (www.chatbot.com) code -->\n",
        "<script type=\"text/javascript\">\n",
        "    window.__be = window.__be || {};\n",
        "    window.__be.id = \"65551569808b8600075bf6e2\";\n",
        "    (function() {\n",
        "        var be = document.createElement('script'); be.type = 'text/javascript'; be.async = true;\n",
        "        be.src = ('https:' == document.location.protocol ? 'https://' : 'http://') + 'cdn.chatbot.com/widget/plugin.js';\n",
        "        var s = document.getElementsByTagName('script')[0]; s.parentNode.insertBefore(be, s);\n",
        "    })();\n",
        "</script>\n",
        "<noscript>You need to <a href=\"https://www.chatbot.com/help/chat-widget/enable-javascript-in-your-browser/\" rel=\"noopener nofollow\">enable JavaScript</a> in order to use the AI chatbot tool powered by <a href=\"https://www.chatbot.com/\" rel=\"noopener nofollow\" target=\"_blank\">ChatBot</a></noscript>\n",
        "<!-- End of ChatBot code -->\n",
        "</body>"
      ]
    }
  ]
}